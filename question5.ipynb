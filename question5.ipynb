{
 "cells": [
  {
   "cell_type": "code",
   "execution_count": null,
   "id": "d5d78476-d858-41ac-bf6f-1ca8698eb6da",
   "metadata": {},
   "outputs": [],
   "source": [
    "#How do conditional statements work in Python? Illustrate with examples\n",
    "\n",
    "\n",
    "#Conditional statements in Python are used to execute certain blocks of code based on specific conditions. These statements allow you to make decisions within your code, executing different branches based on whether conditions are true or false. The primary conditional statements in Python are if, elif, and else.\n",
    "\n",
    "#Example 1: Simple if Statement\n",
    "\n",
    "x = 10\n",
    "if x > 5:\n",
    "    print(\"x is greater than 5\")\n",
    "# Output: x is greater than 5\n"
   ]
  },
  {
   "cell_type": "code",
   "execution_count": null,
   "id": "ff239402-2c3d-4300-a901-877910d737ec",
   "metadata": {},
   "outputs": [],
   "source": [
    "#Example 2: if-else Statement\n",
    "x = 3\n",
    "if x > 5:\n",
    "    print(\"x is greater than 5\")\n",
    "else:\n",
    "    print(\"x is not greater than 5\")\n",
    "# Output: x is not greater than 5\n"
   ]
  },
  {
   "cell_type": "code",
   "execution_count": null,
   "id": "468bec20-7454-4c26-8e79-2fd53d78d284",
   "metadata": {},
   "outputs": [],
   "source": [
    "#Example 3: if-elif-else Statement\n",
    "x = 5\n",
    "if x > 5:\n",
    "    print(\"x is greater than 5\")\n",
    "elif x == 5:\n",
    "    print(\"x is equal to 5\")\n",
    "else:\n",
    "    print(\"x is less than 5\")\n",
    "# Output: x is equal to 5\n"
   ]
  }
 ],
 "metadata": {
  "kernelspec": {
   "display_name": "Python 3 (ipykernel)",
   "language": "python",
   "name": "python3"
  },
  "language_info": {
   "codemirror_mode": {
    "name": "ipython",
    "version": 3
   },
   "file_extension": ".py",
   "mimetype": "text/x-python",
   "name": "python",
   "nbconvert_exporter": "python",
   "pygments_lexer": "ipython3",
   "version": "3.10.8"
  }
 },
 "nbformat": 4,
 "nbformat_minor": 5
}
