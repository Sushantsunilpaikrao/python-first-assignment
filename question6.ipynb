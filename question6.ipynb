{
 "cells": [
  {
   "cell_type": "code",
   "execution_count": null,
   "id": "95022967-7ed8-4444-b2c5-2fa00ca9c167",
   "metadata": {},
   "outputs": [],
   "source": [
    "#Describe the different types of loops in Python and their use cases with examples.\n",
    "\n",
    "'''Python provides two primary types of loops: for loops and while loops. Each serves different purposes and has distinct use cases.\n",
    "\n",
    "1. for Loop\n",
    "The for loop in Python is used for iterating over a sequence (e.g., a list, tuple, dictionary, set, or string) or other iterable objects.\n",
    "\n",
    "Use Cases:\n",
    "Iterating over a sequence of elements.\n",
    "Executing a block of code a fixed number of times.\n",
    "Iterating over elements with known length.'''\n",
    "\n",
    "#1.for Loop with Conditionals\n",
    "\n",
    "numbers = [1, 2, 3, 4, 5, 6]\n",
    "for num in numbers:\n",
    "    if num % 2 == 0:\n",
    "        print(f\"{num} is even\")\n",
    "    else:\n",
    "        print(f\"{num} is odd\")\n",
    "# Output:\n",
    "# 1 is odd\n",
    "# 2 is even\n",
    "# 3 is odd\n",
    "# 4 is even\n",
    "# 5 is odd\n",
    "# 6 is even\n"
   ]
  },
  {
   "cell_type": "code",
   "execution_count": null,
   "id": "75686ef3-080e-4ce7-85ae-534f05ea0dc5",
   "metadata": {},
   "outputs": [],
   "source": [
    "#2.while Loop with Conditionals\n",
    "\n",
    "x = 0\n",
    "while x < 10:\n",
    "    x += 1\n",
    "    if x % 2 == 0:\n",
    "        print(f\"{x} is even\")\n",
    "    else:\n",
    "        print(f\"{x} is odd\")\n",
    "# Output:\n",
    "# 1 is odd\n",
    "# 2 is even\n",
    "# 3 is odd\n",
    "# 4 is even\n",
    "# 5 is odd\n",
    "# 6 is even\n",
    "# 7 is odd\n",
    "# 8 is even\n",
    "# 9 is odd\n",
    "# 10 is even\n"
   ]
  }
 ],
 "metadata": {
  "kernelspec": {
   "display_name": "Python 3 (ipykernel)",
   "language": "python",
   "name": "python3"
  },
  "language_info": {
   "codemirror_mode": {
    "name": "ipython",
    "version": 3
   },
   "file_extension": ".py",
   "mimetype": "text/x-python",
   "name": "python",
   "nbconvert_exporter": "python",
   "pygments_lexer": "ipython3",
   "version": "3.10.8"
  }
 },
 "nbformat": 4,
 "nbformat_minor": 5
}
