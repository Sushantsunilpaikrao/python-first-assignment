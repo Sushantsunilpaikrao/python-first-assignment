{
 "cells": [
  {
   "cell_type": "code",
   "execution_count": null,
   "id": "a3e70494-a6c9-47f5-8911-3947eace6ace",
   "metadata": {},
   "outputs": [],
   "source": [
    "#Discuss the different types of operators in Python and provide examples of how they are used\n",
    "\n",
    "# Arithmetic and assignment\n",
    "a = 10\n",
    "a += 5  # a = a + 5\n",
    "print(a)  # Output: 15\n",
    "\n",
    "# Logical and comparison\n",
    "b = 20\n",
    "print(a > 10 and b < 30)  # Output: True\n",
    "\n",
    "# Bitwise and assignment\n",
    "c = 4  # 0100 in binary\n",
    "c |= 2  # c = c | 2 (now c is 6, which is 0110 in binary)\n",
    "print(c) \n"
   ]
  }
 ],
 "metadata": {
  "kernelspec": {
   "display_name": "Python 3 (ipykernel)",
   "language": "python",
   "name": "python3"
  },
  "language_info": {
   "codemirror_mode": {
    "name": "ipython",
    "version": 3
   },
   "file_extension": ".py",
   "mimetype": "text/x-python",
   "name": "python",
   "nbconvert_exporter": "python",
   "pygments_lexer": "ipython3",
   "version": "3.10.8"
  }
 },
 "nbformat": 4,
 "nbformat_minor": 5
}
