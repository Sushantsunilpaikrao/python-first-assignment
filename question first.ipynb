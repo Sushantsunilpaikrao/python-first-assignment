{
 "cells": [
  {
   "cell_type": "markdown",
   "id": "0f5304ae-37de-44c2-8ec7-afa5991296fd",
   "metadata": {},
   "source": [
    "#Explain the key features of Python that make it a popular choice for programming\n",
    "\n",
    "1.Easy to Learn and Use\n",
    "\n",
    "2.Versatile and General-Purpose\n",
    "\n",
    "3.Extensive Standard Library\n",
    "\n",
    "4.Large and Active Community\n",
    "\n",
    "5.Cross-Platform Compatibility\n",
    "\n",
    "6.Integration Capabilities\n",
    "\n",
    "7.Strong Support for Data Science and AI\n",
    "\n",
    "8.Robust Frameworks and Tools\n",
    "\n",
    "9.High Readability and Maintainability\n",
    "\n",
    "10.Excellent Documentation and Resources\n",
    "\n"
   ]
  },
  {
   "cell_type": "code",
   "execution_count": 5,
   "id": "130ddf69-e0b3-49ba-b88a-64a39cdf8da0",
   "metadata": {
    "collapsed": true,
    "jupyter": {
     "outputs_hidden": true
    },
    "tags": []
   },
   "outputs": [
    {
     "name": "stdout",
     "output_type": "stream",
     "text": [
      "8\n"
     ]
    }
   ],
   "source": [
    "#Describe the role of predefined keywords in Python and provide examples of how they are used in a program\n",
    "\n",
    "\n",
    "#1.Control Flow Keywords:\n",
    "    \n",
    "x = 10\n",
    "if x > 5:\n",
    "    print(\"x is greater than 5\")\n",
    "elif x == 5:\n",
    "    print(\"x is equal to 5\")\n",
    "else:\n",
    "    print(\"x is less than 5\")\n",
    "\n",
    "for i in range(5):\n",
    "    if i == 3:\n",
    "        continue \n",
    "    print(i)\n",
    "\n",
    "\n",
    "\n",
    "\n",
    "\n",
    "\n",
    "\n"
   ]
  },
  {
   "cell_type": "code",
   "execution_count": null,
   "id": "98e98fed-d8fb-4829-9733-f158d0ede110",
   "metadata": {},
   "outputs": [],
   "source": [
    "#2.Function Definition and Return Keywords:\n",
    "\n",
    "def add(a, b):\n",
    "    return a + b\n",
    "\n",
    "result = add(3, 5)\n",
    "print(result)  \n"
   ]
  },
  {
   "cell_type": "code",
   "execution_count": null,
   "id": "1f18203d-a722-496c-ae6c-a87ce90ef1eb",
   "metadata": {},
   "outputs": [],
   "source": [
    "#3.Class Definition Keywords:\n",
    "    \n",
    "class Dog:\n",
    "    def __init__(self, name):\n",
    "        self.name = name\n",
    "\n",
    "    def bark(self):\n",
    "        print(f\"{self.name} says woof!\")\n",
    "\n",
    "my_dog = Dog(\"Buddy\")\n",
    "my_dog.bark()  # Output: Buddy says woof!\n"
   ]
  },
  {
   "cell_type": "code",
   "execution_count": null,
   "id": "895927dd-9aac-4da2-abb7-856953b6c15d",
   "metadata": {},
   "outputs": [],
   "source": [
    "#4.Exception Handling Keywords:\n",
    "\n",
    "\n",
    "try:\n",
    "    result = 10 / 0\n",
    "except ZeroDivisionError:\n",
    "    print(\"Cannot divide by zero!\")\n",
    "finally:\n",
    "    print(\"This block always executes.\")\n",
    "\n",
    "def check_value(value):\n",
    "    if value < 0:\n",
    "        raise ValueError(\"Value must be non-negative\")\n",
    "\n",
    "try:\n",
    "    check_value(-1)\n",
    "except ValueError as e:\n",
    "    print(e)  # Output: Value must be non-negative\n",
    "\n",
    "\n"
   ]
  },
  {
   "cell_type": "code",
   "execution_count": null,
   "id": "b26641df-7dc4-4e29-98de-d932101c1f5e",
   "metadata": {},
   "outputs": [],
   "source": [
    "#5.Logical Operators and Membership Keywords:\n",
    "\n",
    "x = 5\n",
    "y = 10\n",
    "if x < 10 and y > 5:\n",
    "    print(\"Both conditions are true\")\n",
    "\n",
    "fruits = [\"apple\", \"banana\", \"cherry\"]\n",
    "if \"banana\" in fruits:\n",
    "    print(\"Banana is in the list\")\n"
   ]
  },
  {
   "cell_type": "code",
   "execution_count": null,
   "id": "284500fa-388f-43d8-a664-135638ff0dfb",
   "metadata": {},
   "outputs": [],
   "source": [
    "#6.Data Type Keywords:\n",
    "\n",
    "is_active = True\n",
    "if is_active:\n",
    "    print(\"The feature is active\")\n",
    "\n",
    "value = None\n",
    "if value is None:\n",
    "    print(\"No value assigned\")\n",
    "\n",
    "\n"
   ]
  },
  {
   "cell_type": "code",
   "execution_count": null,
   "id": "e2506de7-1d72-4dfc-acd8-e9e8e3d108fe",
   "metadata": {},
   "outputs": [],
   "source": []
  }
 ],
 "metadata": {
  "kernelspec": {
   "display_name": "Python 3 (ipykernel)",
   "language": "python",
   "name": "python3"
  },
  "language_info": {
   "codemirror_mode": {
    "name": "ipython",
    "version": 3
   },
   "file_extension": ".py",
   "mimetype": "text/x-python",
   "name": "python",
   "nbconvert_exporter": "python",
   "pygments_lexer": "ipython3",
   "version": "3.10.8"
  }
 },
 "nbformat": 4,
 "nbformat_minor": 5
}
