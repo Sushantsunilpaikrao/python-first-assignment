{
 "cells": [
  {
   "cell_type": "code",
   "execution_count": 1,
   "id": "d8f9d080-2d74-4853-bd26-504ba82b6cb4",
   "metadata": {},
   "outputs": [
    {
     "name": "stdout",
     "output_type": "stream",
     "text": [
      "[1, 2, 3, 4]\n",
      "(1, 2, 3, 4)\n",
      "(1, 2, 3)\n"
     ]
    }
   ],
   "source": [
    "#Compare and contrast mutable and immutable objects in Python with examples\n",
    "\n",
    "# Mutable example: List\n",
    "my_list = [1, 2, 3]\n",
    "my_list.append(4)  \n",
    "print(my_list)     # Output: [1, 2, 3, 4]\n",
    "\n",
    "# Immutable example: Tuple\n",
    "my_tuple = (1, 2, 3)\n",
    "new_tuple = my_tuple + (4,)  \n",
    "print(new_tuple)  # Output: (1, 2, 3, 4)\n",
    "print(my_tuple)   # Output: (1, 2, 3)\n"
   ]
  },
  {
   "cell_type": "code",
   "execution_count": null,
   "id": "02d358c2-1002-4198-852d-9adaa24c8837",
   "metadata": {},
   "outputs": [],
   "source": []
  }
 ],
 "metadata": {
  "kernelspec": {
   "display_name": "Python 3 (ipykernel)",
   "language": "python",
   "name": "python3"
  },
  "language_info": {
   "codemirror_mode": {
    "name": "ipython",
    "version": 3
   },
   "file_extension": ".py",
   "mimetype": "text/x-python",
   "name": "python",
   "nbconvert_exporter": "python",
   "pygments_lexer": "ipython3",
   "version": "3.10.8"
  }
 },
 "nbformat": 4,
 "nbformat_minor": 5
}
