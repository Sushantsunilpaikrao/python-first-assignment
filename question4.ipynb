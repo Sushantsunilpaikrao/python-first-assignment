{
 "cells": [
  {
   "cell_type": "code",
   "execution_count": null,
   "id": "11bc0d53-4381-4b74-88b4-931893483818",
   "metadata": {},
   "outputs": [],
   "source": [
    "#Explain the concept of type casting in Python with examples\n",
    "\n",
    "'''Type casting, also known as type conversion, is the process of converting a value from one data type to another. In Python, this can be done using built-in functions. Type casting is essential when you need to perform operations that require values to be of the same type, or when you need to conform to a function's requirements regarding input types.\n",
    "\n",
    "Types of Type Casting\n",
    "1.Implicit Type Casting (Automatic Type Conversion)\n",
    "2.Explicit Type Casting (Manual Type Conversion)'''\n",
    "\n",
    "#1. Implicit Type Casting\n",
    "\n",
    "x = 5      # Integer\n",
    "y = 2.5    # Float\n",
    "\n",
    "# Adding integer and float results in a float\n",
    "result = x + y\n",
    "print(result)  # Output: 7.5\n",
    "print(type(result))  # Output: <class 'float'>\n",
    "\n",
    "\n"
   ]
  },
  {
   "cell_type": "code",
   "execution_count": null,
   "id": "1786f6e6-c8bc-4dcb-99bf-a9bdae0ba358",
   "metadata": {},
   "outputs": [],
   "source": [
    "#2. Explicit Type Casting\n",
    "\n",
    "#Integer to Float:\n",
    "x = 10\n",
    "y = float(x)\n",
    "print(y)  # Output: 10.0\n",
    "print(type(y))  # Output: <class 'float'>\n",
    "\n"
   ]
  },
  {
   "cell_type": "code",
   "execution_count": null,
   "id": "d00cf441-c8a3-499e-b3c2-d73b3fccace7",
   "metadata": {},
   "outputs": [],
   "source": [
    "#Float to Integer:\n",
    "\n",
    "a = 7.9\n",
    "b = int(a)\n",
    "print(b)  # Output: 7\n",
    "print(type(b))  # Output: <class 'int'>\n",
    "    "
   ]
  },
  {
   "cell_type": "code",
   "execution_count": null,
   "id": "20d904e9-045d-4386-9e3e-7503c00556e5",
   "metadata": {},
   "outputs": [],
   "source": [
    "#Integer to String:\n",
    "    \n",
    "num = 123\n",
    "num_str = str(num)\n",
    "print(num_str)  # Output: '123'\n",
    "print(type(num_str))  # Output: <class 'str'>\n"
   ]
  },
  {
   "cell_type": "code",
   "execution_count": null,
   "id": "4d52e614-ea95-4d8f-8a8b-869ac9817241",
   "metadata": {},
   "outputs": [],
   "source": [
    "#String to Integer:\n",
    "\n",
    "s = \"456\"\n",
    "s_int = int(s)\n",
    "print(s_int)  # Output: 456\n",
    "print(type(s_int))  # Output: <class 'int'>\n",
    "    "
   ]
  },
  {
   "cell_type": "code",
   "execution_count": null,
   "id": "437c6426-44d2-4b3b-b71d-effd7d874a14",
   "metadata": {},
   "outputs": [],
   "source": [
    "#String to Float:\n",
    "\n",
    "s = \"3.14\"\n",
    "s_float = float(s)\n",
    "print(s_float)  # Output: 3.14\n",
    "print(type(s_float))  # Output: <class 'float'>\n"
   ]
  },
  {
   "cell_type": "code",
   "execution_count": null,
   "id": "e94a7ba5-65fb-4ab2-8aa2-cad14bd2d594",
   "metadata": {},
   "outputs": [],
   "source": [
    "#List to Tuple:\n",
    "lst = [1, 2, 3]\n",
    "tup = tuple(lst)\n",
    "print(tup)  # Output: (1, 2, 3)\n",
    "print(type(tup))  # Output: <class 'tuple'>\n"
   ]
  },
  {
   "cell_type": "code",
   "execution_count": null,
   "id": "3ee6aa79-554b-417a-8dba-5d1b7cc377cc",
   "metadata": {},
   "outputs": [],
   "source": [
    "#Tuple to List:\n",
    "t = (4, 5, 6)\n",
    "lst = list(t)\n",
    "print(lst)  # Output: [4, 5, 6]\n",
    "print(type(lst))  # Output: <class 'list'>\n"
   ]
  },
  {
   "cell_type": "code",
   "execution_count": null,
   "id": "2a45753d-b8e7-442c-9743-2e90215cdcb1",
   "metadata": {},
   "outputs": [],
   "source": [
    "#String to List:\n",
    "s = \"hello\"\n",
    "lst = list(s)\n",
    "print(lst)  # Output: ['h', 'e', 'l', 'l', 'o']\n",
    "print(type(lst))  # Output: <class 'list'>\n"
   ]
  },
  {
   "cell_type": "code",
   "execution_count": null,
   "id": "dafac057-85e2-415f-9e65-8f54f4a9a5a6",
   "metadata": {},
   "outputs": [],
   "source": [
    "#List to Set:\n",
    "lst = [1, 2, 2, 3]\n",
    "s = set(lst)\n",
    "print(s)  # Output: {1, 2, 3}\n",
    "print(type(s))  # Output: <class 'set'>\n"
   ]
  },
  {
   "cell_type": "code",
   "execution_count": null,
   "id": "a0324c9d-8fe0-4f58-b02c-05205c426bc9",
   "metadata": {},
   "outputs": [],
   "source": []
  }
 ],
 "metadata": {
  "kernelspec": {
   "display_name": "Python 3 (ipykernel)",
   "language": "python",
   "name": "python3"
  },
  "language_info": {
   "codemirror_mode": {
    "name": "ipython",
    "version": 3
   },
   "file_extension": ".py",
   "mimetype": "text/x-python",
   "name": "python",
   "nbconvert_exporter": "python",
   "pygments_lexer": "ipython3",
   "version": "3.10.8"
  }
 },
 "nbformat": 4,
 "nbformat_minor": 5
}
